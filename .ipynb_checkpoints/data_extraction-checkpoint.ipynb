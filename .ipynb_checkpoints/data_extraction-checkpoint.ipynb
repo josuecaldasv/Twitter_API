{
 "cells": [
  {
   "cell_type": "markdown",
   "id": "c7f004d0-01d7-490d-9942-d9623a829b5f",
   "metadata": {},
   "source": [
    "# 1. Load libraries and modules"
   ]
  },
  {
   "cell_type": "markdown",
   "id": "4db89544-e26b-453b-9658-5e22822ce6e1",
   "metadata": {},
   "source": [
    "### 1.1. Load libraries"
   ]
  },
  {
   "cell_type": "code",
   "execution_count": 1,
   "id": "cdd5e2ac-926d-4dce-8387-e42746ae6d39",
   "metadata": {
    "tags": []
   },
   "outputs": [],
   "source": [
    "import requests\n",
    "import os\n",
    "import json"
   ]
  },
  {
   "cell_type": "markdown",
   "id": "1747cea7-7bbf-4ad4-be2f-06d88207c85e",
   "metadata": {},
   "source": [
    "### 1.2. Load our module for Twitter API"
   ]
  },
  {
   "cell_type": "code",
   "execution_count": 2,
   "id": "5b47c852-e17f-4bb3-bceb-2bf79c7e6871",
   "metadata": {
    "tags": []
   },
   "outputs": [],
   "source": [
    "import function as fn"
   ]
  },
  {
   "cell_type": "markdown",
   "id": "0a114c34-34f2-4a8f-af3d-63e2e2fdf702",
   "metadata": {},
   "source": [
    "# 2. Extract data"
   ]
  },
  {
   "cell_type": "markdown",
   "id": "ec286555-48ba-47b9-90f5-fff424d13910",
   "metadata": {},
   "source": [
    "Find a example in the README.md that shows how to use the `get_timeline` function."
   ]
  },
  {
   "cell_type": "code",
   "execution_count": 3,
   "id": "09d888b1-4a30-46a4-9aae-858b29596049",
   "metadata": {
    "tags": []
   },
   "outputs": [
    {
     "name": "stdout",
     "output_type": "stream",
     "text": [
      "200\n",
      "Data saved in results\\LulaOficial.json\n"
     ]
    }
   ],
   "source": [
    "keys       = 'keys.json'\n",
    "username   = 'LulaOficial'\n",
    "max_tweets = 15\n",
    "param_list = [ 'created_at', 'id', 'author_id', 'public_metrics', 'attachments' ]\n",
    "path       = 'results'\n",
    "\n",
    "fn.get_timeline( username, max_tweets, param_list, keys, path )"
   ]
  }
 ],
 "metadata": {
  "kernelspec": {
   "display_name": "Python 3 (ipykernel)",
   "language": "python",
   "name": "python3"
  },
  "language_info": {
   "codemirror_mode": {
    "name": "ipython",
    "version": 3
   },
   "file_extension": ".py",
   "mimetype": "text/x-python",
   "name": "python",
   "nbconvert_exporter": "python",
   "pygments_lexer": "ipython3",
   "version": "3.11.4"
  }
 },
 "nbformat": 4,
 "nbformat_minor": 5
}
