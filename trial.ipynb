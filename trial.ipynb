{
 "cells": [
  {
   "cell_type": "code",
   "execution_count": 5,
   "id": "cdd5e2ac-926d-4dce-8387-e42746ae6d39",
   "metadata": {
    "tags": []
   },
   "outputs": [],
   "source": [
    "import requests\n",
    "import os\n",
    "import json"
   ]
  },
  {
   "cell_type": "code",
   "execution_count": 6,
   "id": "5b47c852-e17f-4bb3-bceb-2bf79c7e6871",
   "metadata": {
    "tags": []
   },
   "outputs": [],
   "source": [
    "import function as fn"
   ]
  },
  {
   "cell_type": "code",
   "execution_count": 10,
   "id": "09d888b1-4a30-46a4-9aae-858b29596049",
   "metadata": {
    "tags": []
   },
   "outputs": [
    {
     "name": "stdout",
     "output_type": "stream",
     "text": [
      "200\n",
      "Data saved in results\\SocialesPUCP.json\n"
     ]
    }
   ],
   "source": [
    "keys       = 'keys.json'\n",
    "username   = 'SocialesPUCP'\n",
    "max_tweets = 10\n",
    "param_list = [ 'created_at', 'id', 'author_id', 'public_metrics' ]\n",
    "path       = 'results'\n",
    "\n",
    "fn.get_timeline( username, max_tweets, param_list, keys, path )"
   ]
  }
 ],
 "metadata": {
  "kernelspec": {
   "display_name": "Python 3 (ipykernel)",
   "language": "python",
   "name": "python3"
  },
  "language_info": {
   "codemirror_mode": {
    "name": "ipython",
    "version": 3
   },
   "file_extension": ".py",
   "mimetype": "text/x-python",
   "name": "python",
   "nbconvert_exporter": "python",
   "pygments_lexer": "ipython3",
   "version": "3.11.4"
  }
 },
 "nbformat": 4,
 "nbformat_minor": 5
}
